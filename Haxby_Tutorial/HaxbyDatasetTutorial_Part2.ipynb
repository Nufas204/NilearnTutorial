{
 "cells": [
  {
   "cell_type": "markdown",
   "metadata": {},
   "source": [
    "# Haxby Dataset (from Nilearn database) Part 2\n",
    "## Loading mask_vt and Preparing BOLD fMRI\n",
    "Make use of NiftiMasker from Nilearn to convert 4D BOLD fMRI into 2D data. "
   ]
  },
  {
   "cell_type": "code",
   "execution_count": 6,
   "metadata": {
    "collapsed": true
   },
   "outputs": [],
   "source": [
    "#Loading data using nilearn data downloading function\n",
    "from nilearn import datasets\n",
    "\n",
    "#Fetching the Haxby 2001 datasets (for 1 subject) of Nilearn database \n",
    "haxby_dataset = datasets.fetch_haxby()"
   ]
  },
  {
   "cell_type": "markdown",
   "metadata": {},
   "source": [
    "## Loading and Decoding Haxby datasets\n",
    "Load the labels from corresponding text file and limit the analysis to the face and cat (stimuli)"
   ]
  },
  {
   "cell_type": "code",
   "execution_count": 23,
   "metadata": {
    "collapsed": false
   },
   "outputs": [
    {
     "name": "stdout",
     "output_type": "stream",
     "text": [
      "[(b'rest', 0) (b'rest', 0) (b'rest', 0) ..., (b'rest', 11) (b'rest', 11)\n",
      " (b'rest', 11)]\n",
      "(b'shoe', 0)\n"
     ]
    }
   ],
   "source": [
    "# Use numpy for numerical data manipulation, \n",
    "import numpy as np\n",
    "\n",
    "# load 'target' or 'stimuli' information as string && give a numerical identifier to each\n",
    "# np.recfromcsv() is clever loading of text data\n",
    "haxby_labels_sub1 = np.recfromcsv(haxby_dataset.session_target[0], delimiter =\" \") \n",
    "\n",
    "# 'session_target': ['C:\\\\Users\\\\Nufa/nilearn_data\\\\haxby2001\\\\subj1\\\\labels.txt']\n",
    "# index [0] for the first line of labels.txt\n",
    "\n",
    "print (haxby_labels_sub1) #the target information\n",
    "print (haxby_labels_sub1[51]) #the 52nd numerical identifier"
   ]
  },
  {
   "cell_type": "code",
   "execution_count": 53,
   "metadata": {
    "collapsed": false
   },
   "outputs": [
    {
     "name": "stdout",
     "output_type": "stream",
     "text": [
      "1452\n",
      "12\n",
      "[b'bottle' b'cat' b'chair' b'face' b'house' b'rest' b'scissors'\n",
      " b'scrambledpix' b'shoe']\n"
     ]
    }
   ],
   "source": [
    "haxby_stimuli_sub1 = haxby_labels_sub1['labels'] #the file labels.txt\n",
    "\n",
    "print(haxby_stimuli_sub1.size) #size of all 'stimuli' (row_value)\n",
    "print(haxby_stimuli_sub1.itemsize) #size of sessions\n",
    "print(np.unique(haxby_stimuli_sub1))"
   ]
  },
  {
   "cell_type": "code",
   "execution_count": 50,
   "metadata": {
    "collapsed": false
   },
   "outputs": [
    {
     "name": "stdout",
     "output_type": "stream",
     "text": [
      "[b'face' b'face' b'face' b'face' b'face' b'face' b'face' b'face' b'face'\n",
      " b'cat' b'cat' b'cat' b'cat' b'cat' b'cat' b'cat' b'cat' b'cat' b'face'\n",
      " b'face' b'face' b'face' b'face' b'face' b'face' b'face' b'face' b'cat'\n",
      " b'cat' b'cat' b'cat' b'cat' b'cat' b'cat' b'cat' b'cat' b'cat' b'cat'\n",
      " b'cat' b'cat' b'cat' b'cat' b'cat' b'cat' b'cat' b'face' b'face' b'face'\n",
      " b'face' b'face' b'face' b'face' b'face' b'face' b'cat' b'cat' b'cat'\n",
      " b'cat' b'cat' b'cat' b'cat' b'cat' b'cat' b'face' b'face' b'face' b'face'\n",
      " b'face' b'face' b'face' b'face' b'face' b'face' b'face' b'face' b'face'\n",
      " b'face' b'face' b'face' b'face' b'face' b'cat' b'cat' b'cat' b'cat' b'cat'\n",
      " b'cat' b'cat' b'cat' b'cat' b'face' b'face' b'face' b'face' b'face'\n",
      " b'face' b'face' b'face' b'face' b'cat' b'cat' b'cat' b'cat' b'cat' b'cat'\n",
      " b'cat' b'cat' b'cat' b'face' b'face' b'face' b'face' b'face' b'face'\n",
      " b'face' b'face' b'face' b'cat' b'cat' b'cat' b'cat' b'cat' b'cat' b'cat'\n",
      " b'cat' b'cat' b'face' b'face' b'face' b'face' b'face' b'face' b'face'\n",
      " b'face' b'face' b'cat' b'cat' b'cat' b'cat' b'cat' b'cat' b'cat' b'cat'\n",
      " b'cat' b'face' b'face' b'face' b'face' b'face' b'face' b'face' b'face'\n",
      " b'face' b'cat' b'cat' b'cat' b'cat' b'cat' b'cat' b'cat' b'cat' b'cat'\n",
      " b'face' b'face' b'face' b'face' b'face' b'face' b'face' b'face' b'face'\n",
      " b'cat' b'cat' b'cat' b'cat' b'cat' b'cat' b'cat' b'cat' b'cat' b'cat'\n",
      " b'cat' b'cat' b'cat' b'cat' b'cat' b'cat' b'cat' b'cat' b'face' b'face'\n",
      " b'face' b'face' b'face' b'face' b'face' b'face' b'face' b'face' b'face'\n",
      " b'face' b'face' b'face' b'face' b'face' b'face' b'face' b'cat' b'cat'\n",
      " b'cat' b'cat' b'cat' b'cat' b'cat' b'cat' b'cat']\n"
     ]
    }
   ],
   "source": [
    "# to take only 'faces' and 'cats' labels\n",
    "condition_mask = np.logical_or(haxby_labels_sub1['labels'] == b'face', haxby_labels_sub1['labels'] == b'cat')\n",
    "\n",
    "haxby_stimuli_sub1_facencat = haxby_stimuli_sub1[condition_mask]\n",
    "print (haxby_stimuli_sub1_facencat) #this also take labels and its value, not only the labels."
   ]
  },
  {
   "cell_type": "markdown",
   "metadata": {},
   "source": [
    "## Preparing the fMRI data (using NiftiMasker from Nilearn)\n",
    "The NiftiMasker is used to apply the 'mask_vt' mask to the 4D fMRI data. Then, the shape will becomes 2D, (n_samples, n_features)"
   ]
  },
  {
   "cell_type": "code",
   "execution_count": 42,
   "metadata": {
    "collapsed": false
   },
   "outputs": [
    {
     "name": "stdout",
     "output_type": "stream",
     "text": [
      "C:\\Users\\Nufa/nilearn_data\\haxby2001\\subj1\\mask4_vt.nii.gz\n"
     ]
    }
   ],
   "source": [
    "# import NiftiMasker from nilearn\n",
    "from nilearn.input_data import NiftiMasker\n",
    "\n",
    "# Referencing(initialization) of the mask_vt\n",
    "haxby_maskvt_sub1 = haxby_dataset.mask_vt[0]\n",
    "print(haxby_maskvt_sub1)"
   ]
  },
  {
   "cell_type": "code",
   "execution_count": 43,
   "metadata": {
    "collapsed": true
   },
   "outputs": [],
   "source": [
    "#In decoding, standardizing is very important\n",
    "haxby_nifti_masker = NiftiMasker(mask_img= haxby_maskvt_sub1, standardize=True)"
   ]
  },
  {
   "cell_type": "code",
   "execution_count": 47,
   "metadata": {
    "collapsed": false
   },
   "outputs": [
    {
     "name": "stdout",
     "output_type": "stream",
     "text": [
      "Subject 1 functional(BOLD) nifti image(4D) is stored at: C:\\Users\\Nufa/nilearn_data\\haxby2001\\subj1\\bold.nii.gz\n"
     ]
    }
   ],
   "source": [
    "# Referencing(initialization) of the Bold.nii (the fMRi data of subject 1)\n",
    "haxby_BOLD_sub1 = haxby_dataset.func[0]\n",
    "\n",
    "# 'func': ['C:\\\\Users\\\\Nufa/nilearn_data\\\\haxby2001\\\\subj1\\\\bold.nii.gz']\n",
    "print('Subject 1 functional(BOLD) nifti image(4D) is stored at: %s' %haxby_dataset.func[0])"
   ]
  },
  {
   "cell_type": "code",
   "execution_count": 62,
   "metadata": {
    "collapsed": false
   },
   "outputs": [
    {
     "name": "stdout",
     "output_type": "stream",
     "text": [
      "837804\n"
     ]
    }
   ],
   "source": [
    "#Retrieving the 2D data from 4D data using NiftiMasker\n",
    "haxby_BOLD_masked_sub1 = haxby_nifti_masker.fit_transform (haxby_BOLD_sub1)\n",
    "\n",
    "print(haxby_BOLD_masked_sub1.size)"
   ]
  },
  {
   "cell_type": "markdown",
   "metadata": {},
   "source": [
    "Please refer to http://nilearn.github.io/manipulating_visualizing/manipulating_images.html#from-4d-nifti-images-to-2d-data-arrays for NiftiMasker understanding and documentation"
   ]
  }
 ],
 "metadata": {
  "kernelspec": {
   "display_name": "Python 3",
   "language": "python",
   "name": "python3"
  },
  "language_info": {
   "codemirror_mode": {
    "name": "ipython",
    "version": 3
   },
   "file_extension": ".py",
   "mimetype": "text/x-python",
   "name": "python",
   "nbconvert_exporter": "python",
   "pygments_lexer": "ipython3",
   "version": "3.5.1"
  }
 },
 "nbformat": 4,
 "nbformat_minor": 0
}
