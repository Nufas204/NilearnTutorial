{
 "cells": [
  {
   "cell_type": "markdown",
   "metadata": {},
   "source": [
    "# Haxby Dataset (from Nilearn database) Part 3\n",
    "## Neuroimaging Data for applications\n",
    "such as {MVPA, decoding, predictive modelling, functional connectivity, brain parcellations, connectomes}"
   ]
  },
  {
   "cell_type": "code",
   "execution_count": 2,
   "metadata": {
    "collapsed": true
   },
   "outputs": [],
   "source": [
    "# Dataset loading (Refer to Part 2 for tutorial)\n",
    "from nilearn import datasets\n",
    "haxby_dataset = datasets.fetch_haxby()"
   ]
  },
  {
   "cell_type": "code",
   "execution_count": 3,
   "metadata": {
    "collapsed": true
   },
   "outputs": [],
   "source": [
    "# Use numpy for numerical data manipulation, \n",
    "import numpy as np\n",
    "haxby_labels_sub1 = np.recfromcsv(haxby_dataset.session_target[0], delimiter =\" \")\n",
    "haxby_stimuli_sub1 = haxby_labels_sub1['labels'] #the file labels.txt"
   ]
  },
  {
   "cell_type": "code",
   "execution_count": 4,
   "metadata": {
    "collapsed": false
   },
   "outputs": [
    {
     "name": "stdout",
     "output_type": "stream",
     "text": [
      "Subject 1 functional(BOLD) nifti image(4D) is stored at: C:\\Users\\Nufa/nilearn_data\\haxby2001\\subj1\\bold.nii.gz\n"
     ]
    }
   ],
   "source": [
    "# import NiftiMasker from nilearn\n",
    "from nilearn.input_data import NiftiMasker\n",
    "\n",
    "haxby_maskvt_sub1 = haxby_dataset.mask_vt[0]\n",
    "haxby_nifti_masker = NiftiMasker(mask_img= haxby_maskvt_sub1, standardize=True)\n",
    "haxby_BOLD_sub1 = haxby_dataset.func[0]\n",
    "print('Subject 1 functional(BOLD) nifti image(4D) is stored at: %s' %haxby_dataset.func[0])"
   ]
  },
  {
   "cell_type": "code",
   "execution_count": 5,
   "metadata": {
    "collapsed": true
   },
   "outputs": [],
   "source": [
    "#Retrieving the 2D data from 4D data using NiftiMasker\n",
    "haxby_BOLD_masked_sub1 = haxby_nifti_masker.fit_transform (haxby_BOLD_sub1)"
   ]
  },
  {
   "cell_type": "markdown",
   "metadata": {},
   "source": [
    "## Decoding the Data (2D)\n",
    "After the data transformation to 2D (samples x features) matrix, the data may be decoded for some neuroimaging function, for instance, the Support Vector Machine. "
   ]
  },
  {
   "cell_type": "code",
   "execution_count": 6,
   "metadata": {
    "collapsed": true
   },
   "outputs": [],
   "source": [
    "# Use Scikit-learn (machine learning python based library) to import SVM\n",
    "from sklearn.svm import SVC\n",
    "\n",
    "svc = SVC (kernel='linear')"
   ]
  },
  {
   "cell_type": "code",
   "execution_count": 7,
   "metadata": {
    "collapsed": false
   },
   "outputs": [],
   "source": [
    "#Using classical univariate feature selection based on F-test, name 'Anova'\n",
    "from sklearn.feature_selection import SelectKBest, f_classif\n",
    "feature_selection = SelectKBest(f_classif, k = 500)"
   ]
  },
  {
   "cell_type": "code",
   "execution_count": 9,
   "metadata": {
    "collapsed": false
   },
   "outputs": [],
   "source": [
    "#Classifier: SVC, Feature Selection: SelectKBest\n",
    "# to perform those two operations, sklearn.pipeline is needed.\n",
    "from sklearn.pipeline import Pipeline\n",
    "annova_svc = Pipeline([('annova',feature_selection),('svc',svc)])"
   ]
  },
  {
   "cell_type": "code",
   "execution_count": 15,
   "metadata": {
    "collapsed": false
   },
   "outputs": [
    {
     "data": {
      "text/plain": [
       "Pipeline(steps=[('annova', SelectKBest(k=500, score_func=<function f_classif at 0x0000025209B58840>)), ('svc', SVC(C=1.0, cache_size=200, class_weight=None, coef0=0.0,\n",
       "  decision_function_shape=None, degree=3, gamma='auto', kernel='linear',\n",
       "  max_iter=-1, probability=False, random_state=None, shrinking=True,\n",
       "  tol=0.001, verbose=False))])"
      ]
     },
     "execution_count": 15,
     "metadata": {},
     "output_type": "execute_result"
    }
   ],
   "source": [
    "# fit(X,y) is used to transform using the score function (ex: annova). \n",
    "# X: training input samples, shape=[n_samples, n_features], y: target values (stimuli):, shape=[n_samples]\n",
    "\n",
    "annova_svc.fit(haxby_BOLD_masked_sub1,haxby_stimuli_sub1)"
   ]
  },
  {
   "cell_type": "code",
   "execution_count": null,
   "metadata": {
    "collapsed": true
   },
   "outputs": [],
   "source": []
  }
 ],
 "metadata": {
  "kernelspec": {
   "display_name": "Python 3",
   "language": "python",
   "name": "python3"
  },
  "language_info": {
   "codemirror_mode": {
    "name": "ipython",
    "version": 3
   },
   "file_extension": ".py",
   "mimetype": "text/x-python",
   "name": "python",
   "nbconvert_exporter": "python",
   "pygments_lexer": "ipython3",
   "version": "3.5.1"
  }
 },
 "nbformat": 4,
 "nbformat_minor": 0
}
