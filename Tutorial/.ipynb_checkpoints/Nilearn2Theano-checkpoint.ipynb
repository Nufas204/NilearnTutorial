{
 "cells": [
  {
   "cell_type": "markdown",
   "metadata": {},
   "source": [
    "# Nilearn to Theano\n",
    "Nilearn has the capability to convert/ transform the 4D niimg to 2D data ( [samples x feautures] matrices. What Nilearn doesn't have yet is the Deep Learning tool. Theano provides that.\n"
   ]
  },
  {
   "cell_type": "markdown",
   "metadata": {},
   "source": [
    "## Nilearn conversion"
   ]
  },
  {
   "cell_type": "code",
   "execution_count": 1,
   "metadata": {
    "collapsed": true
   },
   "outputs": [],
   "source": [
    "# Dataset loading (Refer to Part 2 of Haxby Tutorial for tutorial)\n",
    "from nilearn import datasets\n",
    "haxby_dataset = datasets.fetch_haxby()"
   ]
  },
  {
   "cell_type": "code",
   "execution_count": 3,
   "metadata": {
    "collapsed": true
   },
   "outputs": [],
   "source": [
    "# Use numpy for numerical data manipulation, \n",
    "import numpy as np\n",
    "haxby_labels_sub1 = np.recfromcsv(haxby_dataset.session_target[0], delimiter =\" \")\n",
    "haxby_stimuli_sub1 = haxby_labels_sub1['labels']"
   ]
  },
  {
   "cell_type": "code",
   "execution_count": 4,
   "metadata": {
    "collapsed": false
   },
   "outputs": [
    {
     "name": "stdout",
     "output_type": "stream",
     "text": [
      "Subject 1 functional(BOLD) nifti image(4D) is stored at: C:\\Users\\Nufa/nilearn_data\\haxby2001\\subj1\\bold.nii.gz\n"
     ]
    }
   ],
   "source": [
    "# import NiftiMasker from nilearn.input_data\n",
    "from nilearn.input_data import NiftiMasker\n",
    "\n",
    "haxby_maskvt_sub1 = haxby_dataset.mask_vt[0]\n",
    "haxby_nifti_masker = NiftiMasker(mask_img= haxby_maskvt_sub1, standardize=True)\n",
    "haxby_BOLD_sub1 = haxby_dataset.func[0]\n",
    "print('Subject 1 functional(BOLD) nifti image(4D) is stored at: %s' %haxby_dataset.func[0])"
   ]
  },
  {
   "cell_type": "code",
   "execution_count": 6,
   "metadata": {
    "collapsed": true
   },
   "outputs": [],
   "source": [
    "#Retrieving the 2D data from 4D data using NiftiMasker\n",
    "haxby_BOLD_masked_sub1 = haxby_nifti_masker.fit_transform (haxby_BOLD_sub1)"
   ]
  },
  {
   "cell_type": "code",
   "execution_count": 27,
   "metadata": {
    "collapsed": false
   },
   "outputs": [
    {
     "name": "stdout",
     "output_type": "stream",
     "text": [
      "C:\\Users\\Nufa/nilearn_data\\haxby2001\\subj1\\anat.nii.gz\n",
      "C:\\Users\\Nufa/nilearn_data\\haxby2001\\subj1\\bold.nii.gz\n",
      "[[-2.25146627  1.11008501 -0.38940424 ..., -1.31005859 -0.82755452\n",
      "   1.04562497]\n",
      " [-1.99929178  0.90351063 -0.78263468 ..., -1.76820636 -0.66073179\n",
      "  -0.30779985]\n",
      " [-1.72771943  0.8471722  -0.71709627 ..., -1.16538048 -1.11570287\n",
      "   0.35240737]\n",
      " ..., \n",
      " [ 0.28967512 -1.70683813 -2.66686344 ...,  1.28209257  1.0074954\n",
      "   1.24368715]\n",
      " [ 0.75522774 -1.61294067 -2.8307097  ...,  1.71612716  1.37147236\n",
      "   1.07863522]\n",
      " [ 0.17328696 -1.59416115 -2.71601725 ...,  1.58350551  1.56862628\n",
      "   1.57379067]]\n"
     ]
    }
   ],
   "source": [
    "# import plotting from nilearn\n",
    "from nilearn import plotting\n",
    "%matplotlib inline\n",
    "\n",
    "haxby_anat_sub1 = haxby_dataset.anat[0]\n",
    "print (haxby_anat_sub1)\n",
    "print (haxby_BOLD_sub1)\n",
    "print(haxby_BOLD_masked_sub1)"
   ]
  },
  {
   "cell_type": "code",
   "execution_count": 25,
   "metadata": {
    "collapsed": true
   },
   "outputs": [],
   "source": []
  },
  {
   "cell_type": "code",
   "execution_count": null,
   "metadata": {
    "collapsed": true
   },
   "outputs": [],
   "source": []
  }
 ],
 "metadata": {
  "kernelspec": {
   "display_name": "Python 3",
   "language": "python",
   "name": "python3"
  },
  "language_info": {
   "codemirror_mode": {
    "name": "ipython",
    "version": 3
   },
   "file_extension": ".py",
   "mimetype": "text/x-python",
   "name": "python",
   "nbconvert_exporter": "python",
   "pygments_lexer": "ipython3",
   "version": "3.5.1"
  }
 },
 "nbformat": 4,
 "nbformat_minor": 0
}
